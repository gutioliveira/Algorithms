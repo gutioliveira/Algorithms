{
 "cells": [
  {
   "cell_type": "code",
   "execution_count": null,
   "metadata": {
    "collapsed": false
   },
   "outputs": [],
   "source": [
    "## Faces, cats and Dogs.\n",
    "## Nome: Gustavo Cavalcante Oliveira\n",
    "## Matrícula: 130009920\n",
    "## Download it as a .py for better use.\n",
    "import numpy as np\n",
    "import cv2\n",
    "import matplotlib.pyplot as plt\n",
    "from PIL import Image\n",
    "import requests\n",
    "from StringIO import StringIO\n",
    "import urllib\n",
    "\n",
    "import sys\n",
    "import os\n",
    "home_dir = os.getenv(\"HOME\")\n",
    "caffe_root = os.path.join(home_dir, 'caffe')  # this file should be run from {caffe_root}/examples (otherwise change this line)\n",
    "sys.path.insert(0, os.path.join(caffe_root, 'python'))\n",
    "\n",
    "\n",
    "print caffe_root\n",
    "\n",
    "import caffe\n",
    "\n",
    "if os.path.isfile(caffe_root + '/models/bvlc_reference_caffenet/bvlc_reference_caffenet.caffemodel'):\n",
    "    print 'CaffeNet found.'\n",
    "\n",
    "caffe.set_mode_cpu()\n",
    "\n",
    "model_def = os.path.join(caffe_root, 'models', 'bvlc_reference_caffenet','deploy.prototxt')\n",
    "model_weights = os.path.join(caffe_root, 'models','bvlc_reference_caffenet','bvlc_reference_caffenet.caffemodel')\n",
    "\n",
    "net = caffe.Net(model_def,      # defines the structure of the model\n",
    "                model_weights,  # contains the trained weights\n",
    "                caffe.TEST)\n",
    "\n",
    "mu = np.load(os.path.join(caffe_root, 'python','caffe','imagenet','ilsvrc_2012_mean.npy'))\n",
    "mu = mu.mean(1).mean(1)  # average over pixels to obtain the mean (BGR) pixel values\n",
    "print 'mean-subtracted values:', zip('BGR', mu)\n",
    "\n",
    "# create transformer for the input called 'data'\n",
    "transformer = caffe.io.Transformer({'data': net.blobs['data'].data.shape})\n",
    "\n",
    "transformer.set_transpose('data', (2,0,1))  # move image channels to outermost dimension\n",
    "transformer.set_mean('data', mu)            # subtract the dataset-mean value in each channel\n",
    "transformer.set_raw_scale('data', 255)      # rescale from [0, 1] to [0, 255]\n",
    "transformer.set_channel_swap('data', (2,1,0))  # swap channels from RGB to BGR\n",
    "\n",
    "net.blobs['data'].reshape(50,        # batch size\n",
    "                          3,         # 3-channel (BGR) images\n",
    "                          227, 227)  # image size is 227x227"
   ]
  },
  {
   "cell_type": "code",
   "execution_count": null,
   "metadata": {
    "collapsed": true
   },
   "outputs": [],
   "source": [
    "def detect(frame):\n",
    "    height, width, depth = frame.shape\n",
    "\n",
    "    # create grayscale version\n",
    "    grayscale = cv2.cvtColor(frame, cv2.COLOR_BGR2GRAY)\n",
    " \n",
    "    # equalize histogram\n",
    "    cv2.equalizeHist(grayscale, grayscale)\n",
    "\n",
    "    # detect objects\n",
    "    classifier = cv2.CascadeClassifier(\"/home/gustavo/caffe/haarcascade_frontalface_alt.xml\")\n",
    "\n",
    "    # print classifier\n",
    "\n",
    "    coords = []\n",
    "\n",
    "    DOWNSCALE = 4\n",
    "    minisize = (frame.shape[1]/DOWNSCALE,frame.shape[0]/DOWNSCALE)\n",
    "    miniframe = cv2.resize(frame, minisize)\n",
    "    faces = classifier.detectMultiScale(miniframe)\n",
    "    if len(faces)>0:\n",
    "        for i in faces:\n",
    "            x, y, w, h = [ v*DOWNSCALE for v in i ]\n",
    "\n",
    "            coords.append((x,y,w,h))\n",
    "            print x,y,w,h\n",
    "            cv2.rectangle(frame, (x,y), (x+w,y+h), (0,255,0))\n",
    "    \n",
    "    print(str(len(faces)) + ' faces detected.')\n",
    "    print 'coords: '\n",
    "    for coord in coords:\n",
    "    \tx,y,w,h = coord\n",
    "    \tprint [(x,y), (x+w,y+h), (x+w, y), (x, y+h)]\n",
    "    \tprint '\\n'\n",
    "\n",
    "    return frame"
   ]
  },
  {
   "cell_type": "code",
   "execution_count": null,
   "metadata": {
    "collapsed": true
   },
   "outputs": [],
   "source": [
    "def get_image_url(url):\n",
    "\tcap = cv2.VideoCapture(url)\n",
    "\tret,img = cap.read()\n",
    "\n",
    "\treturn img"
   ]
  },
  {
   "cell_type": "code",
   "execution_count": null,
   "metadata": {
    "collapsed": true
   },
   "outputs": [],
   "source": [
    "def get_image_camera():\n",
    "\n",
    "\tcap = cv2.VideoCapture(0)\n",
    "\n",
    "\twhile(True):\n",
    "\t    # Capture frame-by-frame\n",
    "\t    ret, frame = cap.read()\n",
    "\t    img = frame.copy()\n",
    "\t    # Call the function\n",
    "\t    cv2.imshow('frame',frame)\n",
    "\t    if cv2.waitKey(1) & 0xFF == ord('q'):\n",
    "\t    \tcap.release()#cv2.destroyAllWindows()\n",
    "\t        cv2.destroyAllWindows()\n",
    "\t        break\n",
    "\n",
    "\tcv2.imwrite(\"frame.jpg\", frame)\n",
    "\tcv2.imwrite(os.path.join(caffe_root, 'examples', 'images','frame.jpg'), frame)\n",
    "\n",
    "\treturn frame"
   ]
  },
  {
   "cell_type": "code",
   "execution_count": null,
   "metadata": {
    "collapsed": true
   },
   "outputs": [],
   "source": [
    "def probability(image):\n",
    "\ttransformed_image = transformer.preprocess('data', image)\n",
    "\tplt.imshow(image)\n",
    "\tplt.axis('off')\n",
    "\n",
    "\t# copy the image data into the memory allocated for the net\n",
    "\tnet.blobs['data'].data[...] = transformed_image\n",
    "\n",
    "\t### perform classification\n",
    "\toutput = net.forward()\n",
    "\n",
    "\toutput_prob = output['prob'][0]  # the output probability vector for the first image in the batch\n",
    "\n",
    "\tlabels_file = os.path.join(caffe_root, 'data','ilsvrc12','synset_words.txt')\n",
    "\t    \n",
    "\tlabels = np.loadtxt(labels_file, str, delimiter='\\t')\n",
    "\n",
    "\tdogs_file = os.path.join(caffe_root, 'data','ilsvrc12','dogs.txt')\n",
    "\tcats_file = os.path.join(caffe_root, 'data', 'ilsvrc12','cats.txt')\n",
    "\n",
    "\tlabels_dogs = np.loadtxt(dogs_file, str, delimiter='\\t')\n",
    "\tlabels_cats = np.loadtxt(cats_file, str, delimiter='\\t')\n",
    "\n",
    "\ttop_inds = output_prob.argsort()[::-1][:]\n",
    "\n",
    "\tindex = 0\n",
    "\n",
    "\tlist_dogs = []\n",
    "\tprobability_dogs = 0.0\n",
    "\n",
    "\tfor i in labels:\n",
    "\t\tif i in labels_dogs:\n",
    "\t\t\tlist_dogs.append((output_prob[index],labels[index]))\n",
    "\t\t\tprobability_dogs += output_prob[index]\n",
    "\t\tindex += 1\n",
    "\n",
    "\tindex = 0\n",
    "\n",
    "\tlist_cats = []\n",
    "\tprobability_cats = 0.0\n",
    "\n",
    "\tfor i in labels:\n",
    "\t\tif i in labels_cats:\n",
    "\t\t\tlist_cats.append((output_prob[index],labels[index]))\n",
    "\t\t\tprobability_cats += output_prob[index]\n",
    "\t\tindex += 1\n",
    "\n",
    "\tlist_dogs = sorted(list_dogs, reverse=True)\n",
    "\tlist_cats = sorted(list_cats, reverse=True)\n",
    "\n",
    "\tfor i in list_dogs:\n",
    "\t\tdprobability , dog_class = i\n",
    "\t\tprint 'Dog synset ' + str(dog_class)\n",
    "\t\tprint 'Probability ' + str(dprobability * 100.0) + \"%\"\n",
    "\n",
    "\tfor i in list_cats:\n",
    "\t\tcprobability , cat_class = i\n",
    "\t\tprint 'Cat synset ' + str(cat_class)\n",
    "\t\tprint 'Probability ' + str(cprobability * 100.0) + \"%\"\n",
    "\n",
    "\t# clear_output()\n",
    "\tprint '###############################################'\n",
    "\tprint 'Feline probability: ' + str( (probability_cats) * 100.0 ) + \"%\"\n",
    "\tprint 'Canine probability: ' + str( (probability_dogs) * 100.0 ) + \"%\"\n",
    "\tprint 'Probable synset:', labels[output_prob.argmax()]\n",
    "\tprint 'Probability: ' + str(output_prob[output_prob.argmax()] * 100.0) + \"%\"\n",
    "\n",
    "\treturn output_prob[output_prob.argmax()] * 100.0"
   ]
  },
  {
   "cell_type": "code",
   "execution_count": 1,
   "metadata": {
    "collapsed": true
   },
   "outputs": [],
   "source": [
    "def plot_image(image):\n",
    "\n",
    "\tplt.imshow(image[:,:,::-1])\n",
    "\tplt.title('Detection result')\n",
    "\tplt.axis('off')\n",
    "\treturn plt.show()"
   ]
  },
  {
   "cell_type": "code",
   "execution_count": 2,
   "metadata": {
    "collapsed": true
   },
   "outputs": [],
   "source": [
    "def recognition_image():\n",
    "\n",
    "\timage_name = raw_input('enter file name:\\n')\n",
    "\n",
    "\timage = cv2.VideoCapture(image_name)\n",
    "\tret, img = image.read()\n",
    "\n",
    "\timage_recognition = caffe.io.load_image(image_name)\n",
    "\n",
    "\tprobability(image_recognition)\n",
    "\timage_detected = detect(img)\n",
    "\n",
    "\tplot_image(image_detected)"
   ]
  },
  {
   "cell_type": "code",
   "execution_count": 3,
   "metadata": {
    "collapsed": true
   },
   "outputs": [],
   "source": [
    "def recognition_url():\n",
    "\timage_url = raw_input('enter the image url:\\n')\n",
    "\timage = get_image_url(image_url)\n",
    "\n",
    "\turllib.urlretrieve(image_url, os.path.join(caffe_root, 'examples', 'images','url.jpg'))\n",
    "\timage_recognition = caffe.io.load_image(os.path.join(caffe_root, 'examples', 'images','url.jpg'))\n",
    "\n",
    "\tprobability(image_recognition)\n",
    "\timage_detected = detect(image)\n",
    "\n",
    "\tplot_image(image_detected)"
   ]
  },
  {
   "cell_type": "code",
   "execution_count": 4,
   "metadata": {
    "collapsed": true
   },
   "outputs": [],
   "source": [
    "def recogniton_camera():\n",
    "\n",
    "\tframe = get_image_camera()\n",
    "\timage_recognition = caffe.io.load_image(os.path.join(caffe_root, 'examples', 'images','frame.jpg'))\n",
    "\tprobability(image_recognition)\n",
    "\timage_detected = detect(frame)\n",
    "\n",
    "\tplot_image(image_detected)"
   ]
  },
  {
   "cell_type": "code",
   "execution_count": 5,
   "metadata": {
    "collapsed": true
   },
   "outputs": [],
   "source": [
    "import unittest\n",
    "\n",
    "class Test_Faces_Cats_Dogs(unittest.TestCase):\n",
    "\n",
    "\tdef test_get_image_url(self):\n",
    "\n",
    "\t\timage = get_image_url('http://cdn2.tudosobrecachorros.com.br/wp-content/uploads/2013/02/pastor_alemao_2.jpg');\n",
    "\n",
    "\t\tself.assertIsNotNone(image)\n",
    "\n",
    "\tdef test_get_image_url_none(self):\n",
    "\n",
    "\t\timage = get_image_url('');\n",
    "\n",
    "\t\tself.assertIsNone(image)\n",
    "\n",
    "\tdef test_recognition_image(self):\n",
    "\n",
    "\t\timage = caffe.io.load_image(os.path.join(caffe_root, 'test', 'images','test.jpg'))\n",
    "\n",
    "\t\tself.assertIsNotNone(image)\n",
    "\n",
    "\tdef test_recognition_url(self):\n",
    "\n",
    "\t\tget_image_url('http://cdn2.tudosobrecachorros.com.br/wp-content/uploads/2013/02/pastor_alemao_2.jpg');\n",
    "\n",
    "\t\timage = caffe.io.load_image(os.path.join(caffe_root, 'examples', 'images','url.jpg'))\n",
    "\n",
    "\t\tself.assertIsNotNone(image)\n",
    "\n",
    "\tdef test_probability(self):\n",
    "\n",
    "\t\timage = caffe.io.load_image(os.path.join(caffe_root, 'test', 'images','test.jpg'))\n",
    "\n",
    "\t\tprob = probability(image)\n",
    "\n",
    "\t\tself.assertTrue(prob > 90.0)"
   ]
  },
  {
   "cell_type": "code",
   "execution_count": null,
   "metadata": {
    "collapsed": true
   },
   "outputs": [],
   "source": []
  }
 ],
 "metadata": {
  "kernelspec": {
   "display_name": "Python 2",
   "language": "python",
   "name": "python2"
  },
  "language_info": {
   "codemirror_mode": {
    "name": "ipython",
    "version": 2
   },
   "file_extension": ".py",
   "mimetype": "text/x-python",
   "name": "python",
   "nbconvert_exporter": "python",
   "pygments_lexer": "ipython2",
   "version": "2.7.6"
  }
 },
 "nbformat": 4,
 "nbformat_minor": 1
}
